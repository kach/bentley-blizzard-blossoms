{
 "cells": [
  {
   "cell_type": "code",
   "execution_count": null,
   "metadata": {},
   "outputs": [],
   "source": [
    "import requests\n",
    "from bs4 import BeautifulSoup\n",
    "from tqdm.notebook import tqdm\n",
    "import imageio\n",
    "# http://library.ssec.wisc.edu/bentley/\n",
    "# https://web.archive.org/web/20160309021210/http://library.ssec.wisc.edu/bentley/copyright.php\n",
    "\n",
    "START_ID = 1184\n",
    "KLASS_URL = 'http://library.ssec.wisc.edu/bentley/details.php?id=%d'\n",
    "IMG_URL = 'http://library.ssec.wisc.edu/bentleypix/pix/%04d.jpg'"
   ]
  },
  {
   "cell_type": "code",
   "execution_count": null,
   "metadata": {},
   "outputs": [],
   "source": [
    "import os\n",
    "os.mkdir('img')\n",
    "\n",
    "with open('img/labels.tsv', 'a') as f: \n",
    "    for n in tqdm(range(START_ID)):\n",
    "        r = requests.get(URL % (START_ID + n))\n",
    "        if r.status != 200:\n",
    "            continue\n",
    "        soup = BeautifulSoup(r.text, 'html.parser')\n",
    "        tds = soup.find_all('td')\n",
    "        for i in range(100):\n",
    "            if tds[i].text == 'Classification':\n",
    "                klass = tds[i+1].text\n",
    "                break\n",
    "        img = imageio.imread(IMG_URL % (1 + n))\n",
    "        imageio.imsave('img/%04d.png' % n, img)\n",
    "        f.write('%d\\t%s\\n' % (n, klass))"
   ]
  },
  {
   "cell_type": "code",
   "execution_count": null,
   "metadata": {},
   "outputs": [],
   "source": []
  }
 ],
 "metadata": {
  "kernelspec": {
   "display_name": "Python 3",
   "language": "python",
   "name": "python3"
  },
  "language_info": {
   "codemirror_mode": {
    "name": "ipython",
    "version": 3
   },
   "file_extension": ".py",
   "mimetype": "text/x-python",
   "name": "python",
   "nbconvert_exporter": "python",
   "pygments_lexer": "ipython3",
   "version": "3.8.6"
  }
 },
 "nbformat": 4,
 "nbformat_minor": 4
}
